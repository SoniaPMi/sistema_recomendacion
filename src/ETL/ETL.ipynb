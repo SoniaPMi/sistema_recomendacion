{
 "cells": [
  {
   "cell_type": "code",
   "execution_count": 4,
   "metadata": {},
   "outputs": [
    {
     "ename": "TypeError",
     "evalue": "load_cvs() takes 1 positional argument but 2 were given",
     "output_type": "error",
     "traceback": [
      "\u001b[0;31m---------------------------------------------------------------------------\u001b[0m",
      "\u001b[0;31mTypeError\u001b[0m                                 Traceback (most recent call last)",
      "\u001b[1;32m/workspaces/sistema_recomendacion/src/ETL/ETL.ipynb Cell 1\u001b[0m in \u001b[0;36m<cell line: 15>\u001b[0;34m()\u001b[0m\n\u001b[1;32m     <a href='vscode-notebook-cell://dev-container%2B633a5c55736572735c736f6e69615c4f6e6544726976655c446f63756d656e746f735c4d2e4941335c7265706f7369746f72696f5c73697374656d615f7265636f6d656e646163696f6e5c73697374656d615f7265636f6d656e646163696f6e/workspaces/sistema_recomendacion/src/ETL/ETL.ipynb#ch0000000vscode-remote?line=14'>15</a>\u001b[0m \u001b[39mif\u001b[39;00m \u001b[39m__name__\u001b[39m \u001b[39m==\u001b[39m \u001b[39m\"\u001b[39m\u001b[39m__main__\u001b[39m\u001b[39m\"\u001b[39m:\n\u001b[1;32m     <a href='vscode-notebook-cell://dev-container%2B633a5c55736572735c736f6e69615c4f6e6544726976655c446f63756d656e746f735c4d2e4941335c7265706f7369746f72696f5c73697374656d615f7265636f6d656e646163696f6e5c73697374656d615f7265636f6d656e646163696f6e/workspaces/sistema_recomendacion/src/ETL/ETL.ipynb#ch0000000vscode-remote?line=15'>16</a>\u001b[0m     etl \u001b[39m=\u001b[39m ETL()\n\u001b[0;32m---> <a href='vscode-notebook-cell://dev-container%2B633a5c55736572735c736f6e69615c4f6e6544726976655c446f63756d656e746f735c4d2e4941335c7265706f7369746f72696f5c73697374656d615f7265636f6d656e646163696f6e5c73697374656d615f7265636f6d656e646163696f6e/workspaces/sistema_recomendacion/src/ETL/ETL.ipynb#ch0000000vscode-remote?line=16'>17</a>\u001b[0m     dataframe \u001b[39m=\u001b[39m etl\u001b[39m.\u001b[39;49mload_cvs(\u001b[39m\"\u001b[39;49m\u001b[39m/workspaces/sistema_recomendacion/data/ratings.csv\u001b[39;49m\u001b[39m\"\u001b[39;49m)\n",
      "\u001b[0;31mTypeError\u001b[0m: load_cvs() takes 1 positional argument but 2 were given"
     ]
    }
   ],
   "source": [
    "import pandas as pd\n",
    "\n",
    "class ETL:\n",
    "\n",
    "    def __init__(self):\n",
    "        \n",
    "        pass\n",
    "\n",
    "    def load_csv(self, filename: str) -> pd.DataFrame:\n",
    "        \n",
    "        df=pd.read_csv(filename)\n",
    "        return df\n",
    "\n",
    "if __name__ == \"__main__\":\n",
    "    etl = ETL()\n",
    "    dataframe=etl.load_csv(\"/workspaces/sistema_recomendacion/data/ratings.csv\")\n"
   ]
  }
 ],
 "metadata": {
  "kernelspec": {
   "display_name": "Python 3.8.13 64-bit",
   "language": "python",
   "name": "python3"
  },
  "language_info": {
   "codemirror_mode": {
    "name": "ipython",
    "version": 3
   },
   "file_extension": ".py",
   "mimetype": "text/x-python",
   "name": "python",
   "nbconvert_exporter": "python",
   "pygments_lexer": "ipython3",
   "version": "3.8.13"
  },
  "orig_nbformat": 4,
  "vscode": {
   "interpreter": {
    "hash": "949777d72b0d2535278d3dc13498b2535136f6dfe0678499012e853ee9abcab1"
   }
  }
 },
 "nbformat": 4,
 "nbformat_minor": 2
}
