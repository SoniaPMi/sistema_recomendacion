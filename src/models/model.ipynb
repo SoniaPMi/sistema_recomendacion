{
 "cells": [
  {
   "cell_type": "code",
   "execution_count": 10,
   "metadata": {},
   "outputs": [
    {
     "ename": "ModuleNotFoundError",
     "evalue": "No module named 'tensorflow'",
     "output_type": "error",
     "traceback": [
      "\u001b[0;31m---------------------------------------------------------------------------\u001b[0m",
      "\u001b[0;31mModuleNotFoundError\u001b[0m                       Traceback (most recent call last)",
      "\u001b[1;32m/workspaces/sistema_recomendacion/src/models/model.ipynb Cell 1\u001b[0m in \u001b[0;36m<cell line: 23>\u001b[0;34m()\u001b[0m\n\u001b[1;32m     <a href='vscode-notebook-cell://dev-container%2B633a5c55736572735c736f6e69615c4f6e6544726976655c446f63756d656e746f735c4d2e4941335c7265706f7369746f72696f5c73697374656d615f7265636f6d656e646163696f6e5c73697374656d615f7265636f6d656e646163696f6e/workspaces/sistema_recomendacion/src/models/model.ipynb#ch0000000vscode-remote?line=19'>20</a>\u001b[0m \u001b[39mfrom\u001b[39;00m \u001b[39msklearn\u001b[39;00m\u001b[39m.\u001b[39;00m\u001b[39mmodel_selection\u001b[39;00m \u001b[39mimport\u001b[39;00m StratifiedKFold\n\u001b[1;32m     <a href='vscode-notebook-cell://dev-container%2B633a5c55736572735c736f6e69615c4f6e6544726976655c446f63756d656e746f735c4d2e4941335c7265706f7369746f72696f5c73697374656d615f7265636f6d656e646163696f6e5c73697374656d615f7265636f6d656e646163696f6e/workspaces/sistema_recomendacion/src/models/model.ipynb#ch0000000vscode-remote?line=20'>21</a>\u001b[0m warnings\u001b[39m.\u001b[39mfilterwarnings(\u001b[39m'\u001b[39m\u001b[39mignore\u001b[39m\u001b[39m'\u001b[39m)\n\u001b[0;32m---> <a href='vscode-notebook-cell://dev-container%2B633a5c55736572735c736f6e69615c4f6e6544726976655c446f63756d656e746f735c4d2e4941335c7265706f7369746f72696f5c73697374656d615f7265636f6d656e646163696f6e5c73697374656d615f7265636f6d656e646163696f6e/workspaces/sistema_recomendacion/src/models/model.ipynb#ch0000000vscode-remote?line=22'>23</a>\u001b[0m \u001b[39mimport\u001b[39;00m \u001b[39mtensorflow\u001b[39;00m \u001b[39mas\u001b[39;00m \u001b[39mtf\u001b[39;00m\n\u001b[1;32m     <a href='vscode-notebook-cell://dev-container%2B633a5c55736572735c736f6e69615c4f6e6544726976655c446f63756d656e746f735c4d2e4941335c7265706f7369746f72696f5c73697374656d615f7265636f6d656e646163696f6e5c73697374656d615f7265636f6d656e646163696f6e/workspaces/sistema_recomendacion/src/models/model.ipynb#ch0000000vscode-remote?line=23'>24</a>\u001b[0m \u001b[39mfrom\u001b[39;00m \u001b[39mtensorflow\u001b[39;00m\u001b[39m.\u001b[39;00m\u001b[39mkeras\u001b[39;00m\u001b[39m.\u001b[39;00m\u001b[39mlayers\u001b[39;00m \u001b[39mimport\u001b[39;00m (Dense, Embedding, Flatten, Input,\n\u001b[1;32m     <a href='vscode-notebook-cell://dev-container%2B633a5c55736572735c736f6e69615c4f6e6544726976655c446f63756d656e746f735c4d2e4941335c7265706f7369746f72696f5c73697374656d615f7265636f6d656e646163696f6e5c73697374656d615f7265636f6d656e646163696f6e/workspaces/sistema_recomendacion/src/models/model.ipynb#ch0000000vscode-remote?line=24'>25</a>\u001b[0m                                      concatenate)\n\u001b[1;32m     <a href='vscode-notebook-cell://dev-container%2B633a5c55736572735c736f6e69615c4f6e6544726976655c446f63756d656e746f735c4d2e4941335c7265706f7369746f72696f5c73697374656d615f7265636f6d656e646163696f6e5c73697374656d615f7265636f6d656e646163696f6e/workspaces/sistema_recomendacion/src/models/model.ipynb#ch0000000vscode-remote?line=25'>26</a>\u001b[0m \u001b[39mfrom\u001b[39;00m \u001b[39mtensorflow\u001b[39;00m\u001b[39m.\u001b[39;00m\u001b[39mkeras\u001b[39;00m\u001b[39m.\u001b[39;00m\u001b[39mmodels\u001b[39;00m \u001b[39mimport\u001b[39;00m Model\n",
      "\u001b[0;31mModuleNotFoundError\u001b[0m: No module named 'tensorflow'"
     ]
    }
   ],
   "source": [
    "# Libraries\n",
    "import pandas as pd\n",
    "import numpy as np\n",
    "import matplotlib.pyplot as plt\n",
    "import seaborn as sns\n",
    "import itertools\n",
    "\n",
    "\n",
    "from eda.chart_utils import plot_categorical_variable\n",
    "from feat.feature_builder import FeatureHandler\n",
    "\n",
    "import datetime\n",
    "from datetime import datetime\n",
    "import warnings\n",
    "import numpy as np\n",
    "import pandas as pd\n",
    "import seaborn as sns\n",
    "import matplotlib.pyplot as plt\n",
    "from sklearn.metrics import roc_auc_score, roc_curve\n",
    "from sklearn.model_selection import StratifiedKFold\n",
    "warnings.filterwarnings('ignore')\n",
    "\n",
    "import tensorflow as tf\n",
    "from tensorflow.keras.layers import (Dense, Embedding, Flatten, Input, concatenate)\n",
    "from tensorflow.keras.models import Model"
   ]
  },
  {
   "cell_type": "code",
   "execution_count": 3,
   "metadata": {},
   "outputs": [],
   "source": [
    "#data import\n",
    "ratings = pd.read_csv(\"/workspaces/sistema_recomendacion/data/ratings.csv\")\n",
    "\n",
    "ratings[\"timestamp\"] = [datetime.fromtimestamp(timestamp) for timestamp in ratings[\"timestamp\"]]\n",
    "#datetime.fromtimestamp(timestamp)\n",
    "#datetimeObj = datetime.strptime('2018-09-11T15::11::45.456777', '%Y-%m-%dT%H::%M::%S.%f')"
   ]
  },
  {
   "cell_type": "code",
   "execution_count": null,
   "metadata": {},
   "outputs": [],
   "source": [
    "## imput usuarios\n",
    "\n",
    "#imput items (shape = 1)\n",
    "\n",
    "#embedding usuario y emb items\n",
    "# (shape = ident más grande de cada uno)\n",
    "#concatenar\n",
    "#activacion lineal perque estamos con un problema de regresión\n",
    "#luego, compile\n"
   ]
  },
  {
   "cell_type": "code",
   "execution_count": 9,
   "metadata": {},
   "outputs": [
    {
     "ename": "NameError",
     "evalue": "name 'Input' is not defined",
     "output_type": "error",
     "traceback": [
      "\u001b[0;31m---------------------------------------------------------------------------\u001b[0m",
      "\u001b[0;31mNameError\u001b[0m                                 Traceback (most recent call last)",
      "\u001b[1;32m/workspaces/sistema_recomendacion/src/models/model.ipynb Cell 6\u001b[0m in \u001b[0;36m<cell line: 27>\u001b[0;34m()\u001b[0m\n\u001b[1;32m     <a href='vscode-notebook-cell://dev-container%2B633a5c55736572735c736f6e69615c4f6e6544726976655c446f63756d656e746f735c4d2e4941335c7265706f7369746f72696f5c73697374656d615f7265636f6d656e646163696f6e5c73697374656d615f7265636f6d656e646163696f6e/workspaces/sistema_recomendacion/src/models/model.ipynb#ch0000003vscode-remote?line=26'>27</a>\u001b[0m \u001b[39mif\u001b[39;00m \u001b[39m__name__\u001b[39m \u001b[39m==\u001b[39m \u001b[39m\"\u001b[39m\u001b[39m__main__\u001b[39m\u001b[39m\"\u001b[39m:\n\u001b[1;32m     <a href='vscode-notebook-cell://dev-container%2B633a5c55736572735c736f6e69615c4f6e6544726976655c446f63756d656e746f735c4d2e4941335c7265706f7369746f72696f5c73697374656d615f7265636f6d656e646163696f6e5c73697374656d615f7265636f6d656e646163696f6e/workspaces/sistema_recomendacion/src/models/model.ipynb#ch0000003vscode-remote?line=27'>28</a>\u001b[0m     r \u001b[39m=\u001b[39m pd\u001b[39m.\u001b[39mread_csv(\u001b[39m\"\u001b[39m\u001b[39m/workspaces/sistema_recomendacion/data/ratings.csv\u001b[39m\u001b[39m\"\u001b[39m)\n\u001b[0;32m---> <a href='vscode-notebook-cell://dev-container%2B633a5c55736572735c736f6e69615c4f6e6544726976655c446f63756d656e746f735c4d2e4941335c7265706f7369746f72696f5c73697374656d615f7265636f6d656e646163696f6e5c73697374656d615f7265636f6d656e646163696f6e/workspaces/sistema_recomendacion/src/models/model.ipynb#ch0000003vscode-remote?line=28'>29</a>\u001b[0m     model \u001b[39m=\u001b[39m model_nlp(\u001b[39m611\u001b[39;49m, \u001b[39m193610\u001b[39;49m)\n\u001b[1;32m     <a href='vscode-notebook-cell://dev-container%2B633a5c55736572735c736f6e69615c4f6e6544726976655c446f63756d656e746f735c4d2e4941335c7265706f7369746f72696f5c73697374656d615f7265636f6d656e646163696f6e5c73697374656d615f7265636f6d656e646163696f6e/workspaces/sistema_recomendacion/src/models/model.ipynb#ch0000003vscode-remote?line=29'>30</a>\u001b[0m     model\u001b[39m.\u001b[39mfit(r\u001b[39m.\u001b[39muserID, r\u001b[39m.\u001b[39mmovieID, r\u001b[39m.\u001b[39mrating, validation_split \u001b[39m=\u001b[39m \u001b[39m0.2\u001b[39m, epoch\u001b[39m=\u001b[39m\u001b[39m15\u001b[39m)\n",
      "\u001b[1;32m/workspaces/sistema_recomendacion/src/models/model.ipynb Cell 6\u001b[0m in \u001b[0;36mmodel_nlp\u001b[0;34m(mu, ni)\u001b[0m\n\u001b[1;32m      <a href='vscode-notebook-cell://dev-container%2B633a5c55736572735c736f6e69615c4f6e6544726976655c446f63756d656e746f735c4d2e4941335c7265706f7369746f72696f5c73697374656d615f7265636f6d656e646163696f6e5c73697374656d615f7265636f6d656e646163696f6e/workspaces/sistema_recomendacion/src/models/model.ipynb#ch0000003vscode-remote?line=0'>1</a>\u001b[0m \u001b[39mdef\u001b[39;00m  \u001b[39mmodel_nlp\u001b[39m(mu, ni):\n\u001b[0;32m----> <a href='vscode-notebook-cell://dev-container%2B633a5c55736572735c736f6e69615c4f6e6544726976655c446f63756d656e746f735c4d2e4941335c7265706f7369746f72696f5c73697374656d615f7265636f6d656e646163696f6e5c73697374656d615f7265636f6d656e646163696f6e/workspaces/sistema_recomendacion/src/models/model.ipynb#ch0000003vscode-remote?line=2'>3</a>\u001b[0m     input_users \u001b[39m=\u001b[39m Input(shape\u001b[39m=\u001b[39m(\u001b[39m1\u001b[39m,))\n\u001b[1;32m      <a href='vscode-notebook-cell://dev-container%2B633a5c55736572735c736f6e69615c4f6e6544726976655c446f63756d656e746f735c4d2e4941335c7265706f7369746f72696f5c73697374656d615f7265636f6d656e646163696f6e5c73697374656d615f7265636f6d656e646163696f6e/workspaces/sistema_recomendacion/src/models/model.ipynb#ch0000003vscode-remote?line=3'>4</a>\u001b[0m     input_items \u001b[39m=\u001b[39m Input(shape\u001b[39m=\u001b[39m(\u001b[39m1\u001b[39m,))\n\u001b[1;32m      <a href='vscode-notebook-cell://dev-container%2B633a5c55736572735c736f6e69615c4f6e6544726976655c446f63756d656e746f735c4d2e4941335c7265706f7369746f72696f5c73697374656d615f7265636f6d656e646163696f6e5c73697374656d615f7265636f6d656e646163696f6e/workspaces/sistema_recomendacion/src/models/model.ipynb#ch0000003vscode-remote?line=5'>6</a>\u001b[0m     embedding_user \u001b[39m=\u001b[39m Embedding(nu, \u001b[39m2\u001b[39m)(input_users)\n",
      "\u001b[0;31mNameError\u001b[0m: name 'Input' is not defined"
     ]
    }
   ],
   "source": [
    "def  model_nlp(mu, ni):\n",
    "\n",
    "    input_users = Input(shape=(1,))\n",
    "    input_items = Input(shape=(1,))\n",
    "    \n",
    "    embedding_user = Embedding(nu, 2)(input_users)\n",
    "    embedding_items = Embedding(ni, 2)(input_users)\n",
    "\n",
    "    users = Flatten()(embedding_user)\n",
    "    items = Flatten()(embedding_items)\n",
    "\n",
    "    x = concatenate([users, items], axis=-1)\n",
    "\n",
    "    layer1 = Dense(240, activation = 'relu')(x)\n",
    "    layer2 = Dense(64, activation = 'relu')(layer1)\n",
    "    layer3 = Dense(32, activation = 'relu')(layer2)\n",
    "    output = Dense(layer3, activation = 'linear')(layer3)\n",
    "\n",
    "    # Combine Encoder and Deocder layers\n",
    "    model = Model(inputs = [input_users, input_items], outputs = output)\n",
    "    model.compile(optimizer = 'adam', loss = 'mean_squared_error')\n",
    "\n",
    "    return model\n",
    "\n",
    "\n",
    "\n",
    "if __name__ == \"__main__\":\n",
    "    r = pd.read_csv(\"/workspaces/sistema_recomendacion/data/ratings.csv\")\n",
    "    model = model_nlp(611, 193610)\n",
    "    model.fit(r.userID, r.movieID, r.rating, validation_split = 0.2, epoch=15)\n",
    "\n"
   ]
  },
  {
   "cell_type": "code",
   "execution_count": null,
   "metadata": {},
   "outputs": [],
   "source": [
    "from tensorflow.keras.layers import Input, Embedding, Dense, Flatten, concatenate, multiply\n",
    "from tensorflow.keras.models import Model\n",
    "import pandas as pd\n",
    "\n",
    "\n",
    "def model_mlp(nu, ni):\n",
    "\n",
    "    input_user = Input(shape=(1,))\n",
    "    input_items = Input(shape=(1,))\n",
    "\n",
    "    embedding_user = Embedding(nu, 2)(input_user)\n",
    "    embedding_items = Embedding(ni, 2)(input_items)\n",
    "\n",
    "    user_latent = Flatten()(embedding_user)\n",
    "    item_latent = Flatten()(embedding_items)\n",
    "\n",
    "    vect_concat = concatenate([user_latent, item_latent], axis=-1)\n",
    "    vect_multi = multiply([user_latent, item_latent])\n",
    "\n",
    "    vect = concatenate([vect_concat, vect_multi], axis=-1)\n",
    "\n",
    "    layer_ = Dense(10, activation='relu')(vect)\n",
    "\n",
    "    prediction = Dense(1, activation='linear', name = 'prediction')(layer_)\n",
    "\n",
    "    model = Model(inputs=[input_user, input_items],\n",
    "                          outputs=prediction)\n",
    "\n",
    "    model.compile(optimizer='adam', loss='mean_squared_error')\n",
    "\n",
    "    return model\n",
    "\n",
    "\n",
    "if __name__ == '__main__':\n",
    "    r = pd.read_csv(\"/workspaces/Recomendador/data/ratings.csv\")\n",
    "    mod = model_mlp(611, 193610)\n",
    "    mod.fit([r.userId, r.movieId], r.rating, validation_split=0.2, epochs=50)"
   ]
  },
  {
   "cell_type": "code",
   "execution_count": null,
   "metadata": {},
   "outputs": [],
   "source": [
    "from tensorflow.keras.layers import Input, Embedding, Dense, Flatten, concatenate, multiply\n",
    "from tensorflow.keras.models import Model\n",
    "import pandas as pd\n",
    "\n",
    "\n",
    "def model_mlp(nu, ni):\n",
    "\n",
    "    input_user = Input(shape=(1,))\n",
    "    input_items = Input(shape=(1,))\n",
    "\n",
    "    embedding_user = Embedding(nu, 2)(input_user)\n",
    "    embedding_items = Embedding(ni, 2)(input_items)\n",
    "\n",
    "    user_latent = Flatten()(embedding_user)\n",
    "    item_latent = Flatten()(embedding_items)\n",
    "\n",
    "    vect = multiply([user_latent, item_latent])\n",
    "\n",
    "    prediction = Dense(1, activation='linear', name = 'prediction')(vect)\n",
    "\n",
    "    model = Model(inputs=[input_user, input_items],\n",
    "                          outputs=prediction)\n",
    "\n",
    "    model.compile(optimizer='adam', loss='mean_squared_error')\n",
    "\n",
    "    return model\n",
    "\n",
    "\n",
    "if __name__ == '__main__':\n",
    "    r = pd.read_csv(\"/workspaces/Recomendador/data/ratings.csv\")\n",
    "    mod = model_mlp(611, 193610)\n",
    "    mod.fit([r.userId, r.movieId], r.rating, validation_split=0.2, epochs=100)"
   ]
  }
 ],
 "metadata": {
  "kernelspec": {
   "display_name": "Python 3.9.1 64-bit",
   "language": "python",
   "name": "python3"
  },
  "language_info": {
   "codemirror_mode": {
    "name": "ipython",
    "version": 3
   },
   "file_extension": ".py",
   "mimetype": "text/x-python",
   "name": "python",
   "nbconvert_exporter": "python",
   "pygments_lexer": "ipython3",
   "version": "3.9.1"
  },
  "orig_nbformat": 4,
  "vscode": {
   "interpreter": {
    "hash": "7274e85d26c8ce7ed54fc07dfbde3afee41ce57b56b246925c5ba875ec0cfd3a"
   }
  }
 },
 "nbformat": 4,
 "nbformat_minor": 2
}
