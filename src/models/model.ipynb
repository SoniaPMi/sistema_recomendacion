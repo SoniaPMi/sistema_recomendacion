{
 "cells": [
  {
   "cell_type": "code",
   "execution_count": 10,
   "metadata": {},
   "outputs": [
    {
     "ename": "ModuleNotFoundError",
     "evalue": "No module named 'tensorflow'",
     "output_type": "error",
     "traceback": [
      "\u001b[0;31m---------------------------------------------------------------------------\u001b[0m",
      "\u001b[0;31mModuleNotFoundError\u001b[0m                       Traceback (most recent call last)",
      "\u001b[1;32m/workspaces/sistema_recomendacion/src/models/model.ipynb Cell 1\u001b[0m in \u001b[0;36m<cell line: 23>\u001b[0;34m()\u001b[0m\n\u001b[1;32m     <a href='vscode-notebook-cell://dev-container%2B633a5c55736572735c736f6e69615c4f6e6544726976655c446f63756d656e746f735c4d2e4941335c7265706f7369746f72696f5c73697374656d615f7265636f6d656e646163696f6e5c73697374656d615f7265636f6d656e646163696f6e/workspaces/sistema_recomendacion/src/models/model.ipynb#ch0000000vscode-remote?line=19'>20</a>\u001b[0m \u001b[39mfrom\u001b[39;00m \u001b[39msklearn\u001b[39;00m\u001b[39m.\u001b[39;00m\u001b[39mmodel_selection\u001b[39;00m \u001b[39mimport\u001b[39;00m StratifiedKFold\n\u001b[1;32m     <a href='vscode-notebook-cell://dev-container%2B633a5c55736572735c736f6e69615c4f6e6544726976655c446f63756d656e746f735c4d2e4941335c7265706f7369746f72696f5c73697374656d615f7265636f6d656e646163696f6e5c73697374656d615f7265636f6d656e646163696f6e/workspaces/sistema_recomendacion/src/models/model.ipynb#ch0000000vscode-remote?line=20'>21</a>\u001b[0m warnings\u001b[39m.\u001b[39mfilterwarnings(\u001b[39m'\u001b[39m\u001b[39mignore\u001b[39m\u001b[39m'\u001b[39m)\n\u001b[0;32m---> <a href='vscode-notebook-cell://dev-container%2B633a5c55736572735c736f6e69615c4f6e6544726976655c446f63756d656e746f735c4d2e4941335c7265706f7369746f72696f5c73697374656d615f7265636f6d656e646163696f6e5c73697374656d615f7265636f6d656e646163696f6e/workspaces/sistema_recomendacion/src/models/model.ipynb#ch0000000vscode-remote?line=22'>23</a>\u001b[0m \u001b[39mimport\u001b[39;00m \u001b[39mtensorflow\u001b[39;00m \u001b[39mas\u001b[39;00m \u001b[39mtf\u001b[39;00m\n\u001b[1;32m     <a href='vscode-notebook-cell://dev-container%2B633a5c55736572735c736f6e69615c4f6e6544726976655c446f63756d656e746f735c4d2e4941335c7265706f7369746f72696f5c73697374656d615f7265636f6d656e646163696f6e5c73697374656d615f7265636f6d656e646163696f6e/workspaces/sistema_recomendacion/src/models/model.ipynb#ch0000000vscode-remote?line=23'>24</a>\u001b[0m \u001b[39mfrom\u001b[39;00m \u001b[39mtensorflow\u001b[39;00m\u001b[39m.\u001b[39;00m\u001b[39mkeras\u001b[39;00m\u001b[39m.\u001b[39;00m\u001b[39mlayers\u001b[39;00m \u001b[39mimport\u001b[39;00m (Dense, Embedding, Flatten, Input,\n\u001b[1;32m     <a href='vscode-notebook-cell://dev-container%2B633a5c55736572735c736f6e69615c4f6e6544726976655c446f63756d656e746f735c4d2e4941335c7265706f7369746f72696f5c73697374656d615f7265636f6d656e646163696f6e5c73697374656d615f7265636f6d656e646163696f6e/workspaces/sistema_recomendacion/src/models/model.ipynb#ch0000000vscode-remote?line=24'>25</a>\u001b[0m                                      concatenate)\n\u001b[1;32m     <a href='vscode-notebook-cell://dev-container%2B633a5c55736572735c736f6e69615c4f6e6544726976655c446f63756d656e746f735c4d2e4941335c7265706f7369746f72696f5c73697374656d615f7265636f6d656e646163696f6e5c73697374656d615f7265636f6d656e646163696f6e/workspaces/sistema_recomendacion/src/models/model.ipynb#ch0000000vscode-remote?line=25'>26</a>\u001b[0m \u001b[39mfrom\u001b[39;00m \u001b[39mtensorflow\u001b[39;00m\u001b[39m.\u001b[39;00m\u001b[39mkeras\u001b[39;00m\u001b[39m.\u001b[39;00m\u001b[39mmodels\u001b[39;00m \u001b[39mimport\u001b[39;00m Model\n",
      "\u001b[0;31mModuleNotFoundError\u001b[0m: No module named 'tensorflow'"
     ]
    }
   ],
   "source": [
    "# Libraries\n",
    "import pandas as pd\n",
    "import numpy as np\n",
    "import matplotlib.pyplot as plt\n",
    "import seaborn as sns\n",
    "import itertools\n",
    "\n",
    "\n",
    "from eda.chart_utils import plot_categorical_variable\n",
    "from feat.feature_builder import FeatureHandler\n",
    "\n",
    "import datetime\n",
    "from datetime import datetime\n",
    "import warnings\n",
    "import numpy as np\n",
    "import pandas as pd\n",
    "import seaborn as sns\n",
    "import matplotlib.pyplot as plt\n",
    "from sklearn.metrics import roc_auc_score, roc_curve\n",
    "from sklearn.model_selection import StratifiedKFold\n",
    "warnings.filterwarnings('ignore')\n",
    "\n",
    "import tensorflow as tf\n",
    "from tensorflow.keras.layers import (Dense, Embedding, Flatten, Input, concatenate)\n",
    "from tensorflow.keras.models import Model"
   ]
  },
  {
   "cell_type": "code",
   "execution_count": 11,
   "metadata": {},
   "outputs": [
    {
     "ename": "ModuleNotFoundError",
     "evalue": "No module named 'tensorflow'",
     "output_type": "error",
     "traceback": [
      "\u001b[0;31m---------------------------------------------------------------------------\u001b[0m",
      "\u001b[0;31mModuleNotFoundError\u001b[0m                       Traceback (most recent call last)",
      "\u001b[1;32m/workspaces/sistema_recomendacion/src/models/model.ipynb Cell 2\u001b[0m in \u001b[0;36m<cell line: 1>\u001b[0;34m()\u001b[0m\n\u001b[0;32m----> <a href='vscode-notebook-cell://dev-container%2B633a5c55736572735c736f6e69615c4f6e6544726976655c446f63756d656e746f735c4d2e4941335c7265706f7369746f72696f5c73697374656d615f7265636f6d656e646163696f6e5c73697374656d615f7265636f6d656e646163696f6e/workspaces/sistema_recomendacion/src/models/model.ipynb#ch0000006vscode-remote?line=0'>1</a>\u001b[0m \u001b[39mimport\u001b[39;00m \u001b[39mtensorflow\u001b[39;00m\n",
      "\u001b[0;31mModuleNotFoundError\u001b[0m: No module named 'tensorflow'"
     ]
    }
   ],
   "source": [
    "import tensorflow"
   ]
  },
  {
   "cell_type": "code",
   "execution_count": 3,
   "metadata": {},
   "outputs": [],
   "source": [
    "#data import\n",
    "ratings = pd.read_csv(\"/workspaces/sistema_recomendacion/data/ratings.csv\")\n",
    "\n",
    "ratings[\"timestamp\"] = [datetime.fromtimestamp(timestamp) for timestamp in ratings[\"timestamp\"]]\n",
    "#datetime.fromtimestamp(timestamp)\n",
    "#datetimeObj = datetime.strptime('2018-09-11T15::11::45.456777', '%Y-%m-%dT%H::%M::%S.%f')"
   ]
  },
  {
   "cell_type": "code",
   "execution_count": null,
   "metadata": {},
   "outputs": [],
   "source": [
    "## imput usuarios\n",
    "\n",
    "#imput items (shape = 1)\n",
    "\n",
    "#embedding usuario y emb items\n",
    "# (shape = ident más grande de cada uno)\n",
    "#concatenar\n",
    "#activacion lineal perque estamos con un problema de regresión\n",
    "#luego, compile\n"
   ]
  },
  {
   "cell_type": "code",
   "execution_count": 18,
   "metadata": {},
   "outputs": [
    {
     "data": {
      "text/html": [
       "<div>\n",
       "<style scoped>\n",
       "    .dataframe tbody tr th:only-of-type {\n",
       "        vertical-align: middle;\n",
       "    }\n",
       "\n",
       "    .dataframe tbody tr th {\n",
       "        vertical-align: top;\n",
       "    }\n",
       "\n",
       "    .dataframe thead th {\n",
       "        text-align: right;\n",
       "    }\n",
       "</style>\n",
       "<table border=\"1\" class=\"dataframe\">\n",
       "  <thead>\n",
       "    <tr style=\"text-align: right;\">\n",
       "      <th></th>\n",
       "      <th>userId</th>\n",
       "      <th>movieId</th>\n",
       "      <th>rating</th>\n",
       "      <th>timestamp</th>\n",
       "    </tr>\n",
       "  </thead>\n",
       "  <tbody>\n",
       "    <tr>\n",
       "      <th>0</th>\n",
       "      <td>1</td>\n",
       "      <td>1</td>\n",
       "      <td>4.0</td>\n",
       "      <td>2000-07-30 18:45:03</td>\n",
       "    </tr>\n",
       "    <tr>\n",
       "      <th>1</th>\n",
       "      <td>1</td>\n",
       "      <td>3</td>\n",
       "      <td>4.0</td>\n",
       "      <td>2000-07-30 18:20:47</td>\n",
       "    </tr>\n",
       "    <tr>\n",
       "      <th>2</th>\n",
       "      <td>1</td>\n",
       "      <td>6</td>\n",
       "      <td>4.0</td>\n",
       "      <td>2000-07-30 18:37:04</td>\n",
       "    </tr>\n",
       "    <tr>\n",
       "      <th>3</th>\n",
       "      <td>1</td>\n",
       "      <td>47</td>\n",
       "      <td>5.0</td>\n",
       "      <td>2000-07-30 19:03:35</td>\n",
       "    </tr>\n",
       "    <tr>\n",
       "      <th>4</th>\n",
       "      <td>1</td>\n",
       "      <td>50</td>\n",
       "      <td>5.0</td>\n",
       "      <td>2000-07-30 18:48:51</td>\n",
       "    </tr>\n",
       "    <tr>\n",
       "      <th>...</th>\n",
       "      <td>...</td>\n",
       "      <td>...</td>\n",
       "      <td>...</td>\n",
       "      <td>...</td>\n",
       "    </tr>\n",
       "    <tr>\n",
       "      <th>100831</th>\n",
       "      <td>610</td>\n",
       "      <td>166534</td>\n",
       "      <td>4.0</td>\n",
       "      <td>2017-05-03 21:53:22</td>\n",
       "    </tr>\n",
       "    <tr>\n",
       "      <th>100832</th>\n",
       "      <td>610</td>\n",
       "      <td>168248</td>\n",
       "      <td>5.0</td>\n",
       "      <td>2017-05-03 22:21:31</td>\n",
       "    </tr>\n",
       "    <tr>\n",
       "      <th>100833</th>\n",
       "      <td>610</td>\n",
       "      <td>168250</td>\n",
       "      <td>5.0</td>\n",
       "      <td>2017-05-08 19:50:47</td>\n",
       "    </tr>\n",
       "    <tr>\n",
       "      <th>100834</th>\n",
       "      <td>610</td>\n",
       "      <td>168252</td>\n",
       "      <td>5.0</td>\n",
       "      <td>2017-05-03 21:19:12</td>\n",
       "    </tr>\n",
       "    <tr>\n",
       "      <th>100835</th>\n",
       "      <td>610</td>\n",
       "      <td>170875</td>\n",
       "      <td>3.0</td>\n",
       "      <td>2017-05-03 21:20:15</td>\n",
       "    </tr>\n",
       "  </tbody>\n",
       "</table>\n",
       "<p>100836 rows × 4 columns</p>\n",
       "</div>"
      ],
      "text/plain": [
       "        userId  movieId  rating           timestamp\n",
       "0            1        1     4.0 2000-07-30 18:45:03\n",
       "1            1        3     4.0 2000-07-30 18:20:47\n",
       "2            1        6     4.0 2000-07-30 18:37:04\n",
       "3            1       47     5.0 2000-07-30 19:03:35\n",
       "4            1       50     5.0 2000-07-30 18:48:51\n",
       "...        ...      ...     ...                 ...\n",
       "100831     610   166534     4.0 2017-05-03 21:53:22\n",
       "100832     610   168248     5.0 2017-05-03 22:21:31\n",
       "100833     610   168250     5.0 2017-05-08 19:50:47\n",
       "100834     610   168252     5.0 2017-05-03 21:19:12\n",
       "100835     610   170875     3.0 2017-05-03 21:20:15\n",
       "\n",
       "[100836 rows x 4 columns]"
      ]
     },
     "execution_count": 18,
     "metadata": {},
     "output_type": "execute_result"
    }
   ],
   "source": [
    "ratings"
   ]
  },
  {
   "cell_type": "code",
   "execution_count": 5,
   "metadata": {},
   "outputs": [
    {
     "ename": "InvalidIndexError",
     "evalue": "(slice(None, None, None), 0)",
     "output_type": "error",
     "traceback": [
      "\u001b[0;31m---------------------------------------------------------------------------\u001b[0m",
      "\u001b[0;31mTypeError\u001b[0m                                 Traceback (most recent call last)",
      "File \u001b[0;32m/usr/local/lib/python3.8/site-packages/pandas/core/indexes/base.py:3621\u001b[0m, in \u001b[0;36mIndex.get_loc\u001b[0;34m(self, key, method, tolerance)\u001b[0m\n\u001b[1;32m   3620\u001b[0m \u001b[39mtry\u001b[39;00m:\n\u001b[0;32m-> 3621\u001b[0m     \u001b[39mreturn\u001b[39;00m \u001b[39mself\u001b[39;49m\u001b[39m.\u001b[39;49m_engine\u001b[39m.\u001b[39;49mget_loc(casted_key)\n\u001b[1;32m   3622\u001b[0m \u001b[39mexcept\u001b[39;00m \u001b[39mKeyError\u001b[39;00m \u001b[39mas\u001b[39;00m err:\n",
      "File \u001b[0;32m/usr/local/lib/python3.8/site-packages/pandas/_libs/index.pyx:136\u001b[0m, in \u001b[0;36mpandas._libs.index.IndexEngine.get_loc\u001b[0;34m()\u001b[0m\n",
      "File \u001b[0;32m/usr/local/lib/python3.8/site-packages/pandas/_libs/index.pyx:142\u001b[0m, in \u001b[0;36mpandas._libs.index.IndexEngine.get_loc\u001b[0;34m()\u001b[0m\n",
      "\u001b[0;31mTypeError\u001b[0m: '(slice(None, None, None), 0)' is an invalid key",
      "\nDuring handling of the above exception, another exception occurred:\n",
      "\u001b[0;31mInvalidIndexError\u001b[0m                         Traceback (most recent call last)",
      "\u001b[1;32m/workspaces/sistema_recomendacion/src/models/model.ipynb Cell 5\u001b[0m in \u001b[0;36m<cell line: 1>\u001b[0;34m()\u001b[0m\n\u001b[0;32m----> <a href='vscode-notebook-cell://dev-container%2B633a5c55736572735c736f6e69615c4f6e6544726976655c446f63756d656e746f735c4d2e4941335c7265706f7369746f72696f5c73697374656d615f7265636f6d656e646163696f6e5c73697374656d615f7265636f6d656e646163696f6e/workspaces/sistema_recomendacion/src/models/model.ipynb#ch0000005vscode-remote?line=0'>1</a>\u001b[0m ratings[:, \u001b[39m0\u001b[39;49m]\u001b[39m.\u001b[39mshape[\u001b[39m1\u001b[39m]\n",
      "File \u001b[0;32m/usr/local/lib/python3.8/site-packages/pandas/core/frame.py:3506\u001b[0m, in \u001b[0;36mDataFrame.__getitem__\u001b[0;34m(self, key)\u001b[0m\n\u001b[1;32m   3504\u001b[0m \u001b[39mif\u001b[39;00m \u001b[39mself\u001b[39m\u001b[39m.\u001b[39mcolumns\u001b[39m.\u001b[39mnlevels \u001b[39m>\u001b[39m \u001b[39m1\u001b[39m:\n\u001b[1;32m   3505\u001b[0m     \u001b[39mreturn\u001b[39;00m \u001b[39mself\u001b[39m\u001b[39m.\u001b[39m_getitem_multilevel(key)\n\u001b[0;32m-> 3506\u001b[0m indexer \u001b[39m=\u001b[39m \u001b[39mself\u001b[39;49m\u001b[39m.\u001b[39;49mcolumns\u001b[39m.\u001b[39;49mget_loc(key)\n\u001b[1;32m   3507\u001b[0m \u001b[39mif\u001b[39;00m is_integer(indexer):\n\u001b[1;32m   3508\u001b[0m     indexer \u001b[39m=\u001b[39m [indexer]\n",
      "File \u001b[0;32m/usr/local/lib/python3.8/site-packages/pandas/core/indexes/base.py:3628\u001b[0m, in \u001b[0;36mIndex.get_loc\u001b[0;34m(self, key, method, tolerance)\u001b[0m\n\u001b[1;32m   3623\u001b[0m         \u001b[39mraise\u001b[39;00m \u001b[39mKeyError\u001b[39;00m(key) \u001b[39mfrom\u001b[39;00m \u001b[39merr\u001b[39;00m\n\u001b[1;32m   3624\u001b[0m     \u001b[39mexcept\u001b[39;00m \u001b[39mTypeError\u001b[39;00m:\n\u001b[1;32m   3625\u001b[0m         \u001b[39m# If we have a listlike key, _check_indexing_error will raise\u001b[39;00m\n\u001b[1;32m   3626\u001b[0m         \u001b[39m#  InvalidIndexError. Otherwise we fall through and re-raise\u001b[39;00m\n\u001b[1;32m   3627\u001b[0m         \u001b[39m#  the TypeError.\u001b[39;00m\n\u001b[0;32m-> 3628\u001b[0m         \u001b[39mself\u001b[39;49m\u001b[39m.\u001b[39;49m_check_indexing_error(key)\n\u001b[1;32m   3629\u001b[0m         \u001b[39mraise\u001b[39;00m\n\u001b[1;32m   3631\u001b[0m \u001b[39m# GH#42269\u001b[39;00m\n",
      "File \u001b[0;32m/usr/local/lib/python3.8/site-packages/pandas/core/indexes/base.py:5637\u001b[0m, in \u001b[0;36mIndex._check_indexing_error\u001b[0;34m(self, key)\u001b[0m\n\u001b[1;32m   5633\u001b[0m \u001b[39mdef\u001b[39;00m \u001b[39m_check_indexing_error\u001b[39m(\u001b[39mself\u001b[39m, key):\n\u001b[1;32m   5634\u001b[0m     \u001b[39mif\u001b[39;00m \u001b[39mnot\u001b[39;00m is_scalar(key):\n\u001b[1;32m   5635\u001b[0m         \u001b[39m# if key is not a scalar, directly raise an error (the code below\u001b[39;00m\n\u001b[1;32m   5636\u001b[0m         \u001b[39m# would convert to numpy arrays and raise later any way) - GH29926\u001b[39;00m\n\u001b[0;32m-> 5637\u001b[0m         \u001b[39mraise\u001b[39;00m InvalidIndexError(key)\n",
      "\u001b[0;31mInvalidIndexError\u001b[0m: (slice(None, None, None), 0)"
     ]
    }
   ],
   "source": [
    "from ten"
   ]
  },
  {
   "cell_type": "code",
   "execution_count": 9,
   "metadata": {},
   "outputs": [
    {
     "ename": "NameError",
     "evalue": "name 'Input' is not defined",
     "output_type": "error",
     "traceback": [
      "\u001b[0;31m---------------------------------------------------------------------------\u001b[0m",
      "\u001b[0;31mNameError\u001b[0m                                 Traceback (most recent call last)",
      "\u001b[1;32m/workspaces/sistema_recomendacion/src/models/model.ipynb Cell 6\u001b[0m in \u001b[0;36m<cell line: 27>\u001b[0;34m()\u001b[0m\n\u001b[1;32m     <a href='vscode-notebook-cell://dev-container%2B633a5c55736572735c736f6e69615c4f6e6544726976655c446f63756d656e746f735c4d2e4941335c7265706f7369746f72696f5c73697374656d615f7265636f6d656e646163696f6e5c73697374656d615f7265636f6d656e646163696f6e/workspaces/sistema_recomendacion/src/models/model.ipynb#ch0000003vscode-remote?line=26'>27</a>\u001b[0m \u001b[39mif\u001b[39;00m \u001b[39m__name__\u001b[39m \u001b[39m==\u001b[39m \u001b[39m\"\u001b[39m\u001b[39m__main__\u001b[39m\u001b[39m\"\u001b[39m:\n\u001b[1;32m     <a href='vscode-notebook-cell://dev-container%2B633a5c55736572735c736f6e69615c4f6e6544726976655c446f63756d656e746f735c4d2e4941335c7265706f7369746f72696f5c73697374656d615f7265636f6d656e646163696f6e5c73697374656d615f7265636f6d656e646163696f6e/workspaces/sistema_recomendacion/src/models/model.ipynb#ch0000003vscode-remote?line=27'>28</a>\u001b[0m     r \u001b[39m=\u001b[39m pd\u001b[39m.\u001b[39mread_csv(\u001b[39m\"\u001b[39m\u001b[39m/workspaces/sistema_recomendacion/data/ratings.csv\u001b[39m\u001b[39m\"\u001b[39m)\n\u001b[0;32m---> <a href='vscode-notebook-cell://dev-container%2B633a5c55736572735c736f6e69615c4f6e6544726976655c446f63756d656e746f735c4d2e4941335c7265706f7369746f72696f5c73697374656d615f7265636f6d656e646163696f6e5c73697374656d615f7265636f6d656e646163696f6e/workspaces/sistema_recomendacion/src/models/model.ipynb#ch0000003vscode-remote?line=28'>29</a>\u001b[0m     model \u001b[39m=\u001b[39m model_nlp(\u001b[39m611\u001b[39;49m, \u001b[39m193610\u001b[39;49m)\n\u001b[1;32m     <a href='vscode-notebook-cell://dev-container%2B633a5c55736572735c736f6e69615c4f6e6544726976655c446f63756d656e746f735c4d2e4941335c7265706f7369746f72696f5c73697374656d615f7265636f6d656e646163696f6e5c73697374656d615f7265636f6d656e646163696f6e/workspaces/sistema_recomendacion/src/models/model.ipynb#ch0000003vscode-remote?line=29'>30</a>\u001b[0m     model\u001b[39m.\u001b[39mfit(r\u001b[39m.\u001b[39muserID, r\u001b[39m.\u001b[39mmovieID, r\u001b[39m.\u001b[39mrating, validation_split \u001b[39m=\u001b[39m \u001b[39m0.2\u001b[39m, epoch\u001b[39m=\u001b[39m\u001b[39m15\u001b[39m)\n",
      "\u001b[1;32m/workspaces/sistema_recomendacion/src/models/model.ipynb Cell 6\u001b[0m in \u001b[0;36mmodel_nlp\u001b[0;34m(mu, ni)\u001b[0m\n\u001b[1;32m      <a href='vscode-notebook-cell://dev-container%2B633a5c55736572735c736f6e69615c4f6e6544726976655c446f63756d656e746f735c4d2e4941335c7265706f7369746f72696f5c73697374656d615f7265636f6d656e646163696f6e5c73697374656d615f7265636f6d656e646163696f6e/workspaces/sistema_recomendacion/src/models/model.ipynb#ch0000003vscode-remote?line=0'>1</a>\u001b[0m \u001b[39mdef\u001b[39;00m  \u001b[39mmodel_nlp\u001b[39m(mu, ni):\n\u001b[0;32m----> <a href='vscode-notebook-cell://dev-container%2B633a5c55736572735c736f6e69615c4f6e6544726976655c446f63756d656e746f735c4d2e4941335c7265706f7369746f72696f5c73697374656d615f7265636f6d656e646163696f6e5c73697374656d615f7265636f6d656e646163696f6e/workspaces/sistema_recomendacion/src/models/model.ipynb#ch0000003vscode-remote?line=2'>3</a>\u001b[0m     input_users \u001b[39m=\u001b[39m Input(shape\u001b[39m=\u001b[39m(\u001b[39m1\u001b[39m,))\n\u001b[1;32m      <a href='vscode-notebook-cell://dev-container%2B633a5c55736572735c736f6e69615c4f6e6544726976655c446f63756d656e746f735c4d2e4941335c7265706f7369746f72696f5c73697374656d615f7265636f6d656e646163696f6e5c73697374656d615f7265636f6d656e646163696f6e/workspaces/sistema_recomendacion/src/models/model.ipynb#ch0000003vscode-remote?line=3'>4</a>\u001b[0m     input_items \u001b[39m=\u001b[39m Input(shape\u001b[39m=\u001b[39m(\u001b[39m1\u001b[39m,))\n\u001b[1;32m      <a href='vscode-notebook-cell://dev-container%2B633a5c55736572735c736f6e69615c4f6e6544726976655c446f63756d656e746f735c4d2e4941335c7265706f7369746f72696f5c73697374656d615f7265636f6d656e646163696f6e5c73697374656d615f7265636f6d656e646163696f6e/workspaces/sistema_recomendacion/src/models/model.ipynb#ch0000003vscode-remote?line=5'>6</a>\u001b[0m     embedding_user \u001b[39m=\u001b[39m Embedding(nu, \u001b[39m2\u001b[39m)(input_users)\n",
      "\u001b[0;31mNameError\u001b[0m: name 'Input' is not defined"
     ]
    }
   ],
   "source": [
    "def  model_nlp(mu, ni):\n",
    "\n",
    "    input_users = Input(shape=(1,))\n",
    "    input_items = Input(shape=(1,))\n",
    "    \n",
    "    embedding_user = Embedding(nu, 2)(input_users)\n",
    "    embedding_items = Embedding(ni, 2)(input_users)\n",
    "\n",
    "    users = Flatten()(embedding_user)\n",
    "    items = Flatten()(embedding_items)\n",
    "\n",
    "    x = concatenate([users, items], axis=-1)\n",
    "\n",
    "    layer1 = Dense(240, activation = 'relu')(x)\n",
    "    layer2 = Dense(64, activation = 'relu')(layer1)\n",
    "    layer3 = Dense(32, activation = 'relu')(layer2)\n",
    "    output = Dense(layer3, activation = 'linear')(layer3)\n",
    "\n",
    "    # Combine Encoder and Deocder layers\n",
    "    model = Model(inputs = [input_users, input_items], outputs = output)\n",
    "    model.compile(optimizer = 'adam', loss = 'mean_squared_error')\n",
    "\n",
    "    return model\n",
    "\n",
    "\n",
    "\n",
    "if __name__ == \"__main__\":\n",
    "    r = pd.read_csv(\"/workspaces/sistema_recomendacion/data/ratings.csv\")\n",
    "    model = model_nlp(611, 193610)\n",
    "    model.fit(r.userID, r.movieID, r.rating, validation_split = 0.2, epoch=15)\n",
    "\n"
   ]
  }
 ],
 "metadata": {
  "kernelspec": {
   "display_name": "Python 3.8.13 64-bit",
   "language": "python",
   "name": "python3"
  },
  "language_info": {
   "codemirror_mode": {
    "name": "ipython",
    "version": 3
   },
   "file_extension": ".py",
   "mimetype": "text/x-python",
   "name": "python",
   "nbconvert_exporter": "python",
   "pygments_lexer": "ipython3",
   "version": "3.8.13"
  },
  "orig_nbformat": 4,
  "vscode": {
   "interpreter": {
    "hash": "949777d72b0d2535278d3dc13498b2535136f6dfe0678499012e853ee9abcab1"
   }
  }
 },
 "nbformat": 4,
 "nbformat_minor": 2
}
